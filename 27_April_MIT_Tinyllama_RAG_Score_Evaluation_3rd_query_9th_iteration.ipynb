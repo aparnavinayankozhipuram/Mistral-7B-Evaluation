{
  "nbformat": 4,
  "nbformat_minor": 0,
  "metadata": {
    "colab": {
      "provenance": [],
      "authorship_tag": "ABX9TyM2Vhu/bzytu3h2LZ5sWRfn",
      "include_colab_link": true
    },
    "kernelspec": {
      "name": "python3",
      "display_name": "Python 3"
    },
    "language_info": {
      "name": "python"
    }
  },
  "cells": [
    {
      "cell_type": "markdown",
      "metadata": {
        "id": "view-in-github",
        "colab_type": "text"
      },
      "source": [
        "<a href=\"https://colab.research.google.com/github/aparnavinayankozhipuram/Mistral-7B-Evaluation/blob/main/27_April_MIT_Tinyllama_RAG_Score_Evaluation_3rd_query_9th_iteration.ipynb\" target=\"_parent\"><img src=\"https://colab.research.google.com/assets/colab-badge.svg\" alt=\"Open In Colab\"/></a>"
      ]
    },
    {
      "cell_type": "code",
      "execution_count": 1,
      "metadata": {
        "colab": {
          "base_uri": "https://localhost:8080/"
        },
        "id": "6RyRCzlyJ5V2",
        "outputId": "a8f6c364-2544-4041-f04a-363059d18abe"
      },
      "outputs": [
        {
          "output_type": "stream",
          "name": "stdout",
          "text": [
            "Requirement already satisfied: nltk in /usr/local/lib/python3.11/dist-packages (3.9.1)\n",
            "Collecting rouge-score\n",
            "  Downloading rouge_score-0.1.2.tar.gz (17 kB)\n",
            "  Preparing metadata (setup.py) ... \u001b[?25l\u001b[?25hdone\n",
            "Requirement already satisfied: click in /usr/local/lib/python3.11/dist-packages (from nltk) (8.1.8)\n",
            "Requirement already satisfied: joblib in /usr/local/lib/python3.11/dist-packages (from nltk) (1.4.2)\n",
            "Requirement already satisfied: regex>=2021.8.3 in /usr/local/lib/python3.11/dist-packages (from nltk) (2024.11.6)\n",
            "Requirement already satisfied: tqdm in /usr/local/lib/python3.11/dist-packages (from nltk) (4.67.1)\n",
            "Requirement already satisfied: absl-py in /usr/local/lib/python3.11/dist-packages (from rouge-score) (1.4.0)\n",
            "Requirement already satisfied: numpy in /usr/local/lib/python3.11/dist-packages (from rouge-score) (2.0.2)\n",
            "Requirement already satisfied: six>=1.14.0 in /usr/local/lib/python3.11/dist-packages (from rouge-score) (1.17.0)\n",
            "Building wheels for collected packages: rouge-score\n",
            "  Building wheel for rouge-score (setup.py) ... \u001b[?25l\u001b[?25hdone\n",
            "  Created wheel for rouge-score: filename=rouge_score-0.1.2-py3-none-any.whl size=24934 sha256=4f99fd8c16c3a5f6e6a4cce933a18259eea9a86826808c3977c0e9b25259ee1a\n",
            "  Stored in directory: /root/.cache/pip/wheels/1e/19/43/8a442dc83660ca25e163e1bd1f89919284ab0d0c1475475148\n",
            "Successfully built rouge-score\n",
            "Installing collected packages: rouge-score\n",
            "Successfully installed rouge-score-0.1.2\n",
            "Requirement already satisfied: scikit-learn in /usr/local/lib/python3.11/dist-packages (1.6.1)\n",
            "Requirement already satisfied: numpy>=1.19.5 in /usr/local/lib/python3.11/dist-packages (from scikit-learn) (2.0.2)\n",
            "Requirement already satisfied: scipy>=1.6.0 in /usr/local/lib/python3.11/dist-packages (from scikit-learn) (1.14.1)\n",
            "Requirement already satisfied: joblib>=1.2.0 in /usr/local/lib/python3.11/dist-packages (from scikit-learn) (1.4.2)\n",
            "Requirement already satisfied: threadpoolctl>=3.1.0 in /usr/local/lib/python3.11/dist-packages (from scikit-learn) (3.6.0)\n"
          ]
        }
      ],
      "source": [
        "!pip install nltk rouge-score\n",
        "!pip install scikit-learn\n"
      ]
    },
    {
      "cell_type": "code",
      "source": [
        "import nltk\n",
        "from rouge_score import rouge_scorer\n",
        "from nltk.translate.bleu_score import sentence_bleu, SmoothingFunction\n",
        "\n",
        "# Ensure necessary NLTK data is downloaded\n",
        "# The original line was: nltk.download('punkt')\n",
        "nltk.download('punkt_tab') # Download punkt_tab instead of just punkt\n",
        "\n",
        "\n",
        "def evaluate_rag_model(predictions, references):\n",
        "    \"\"\"\n",
        "    Evaluate RAG model using BLEU and ROUGE scores.\n",
        "\n",
        "    Args:\n",
        "    predictions (list of str): The generated text from the RAG model.\n",
        "    references (list of str): The reference ground truth text.\n",
        "\n",
        "    Returns:\n",
        "    dict: BLEU and ROUGE scores.\n",
        "    \"\"\"\n",
        "    # BLEU score\n",
        "    bleu_scores = []\n",
        "    for prediction, reference in zip(predictions, references):\n",
        "        reference_tokens = nltk.word_tokenize(reference.lower())\n",
        "        prediction_tokens = nltk.word_tokenize(prediction.lower())\n",
        "\n",
        "        # Use smoothing function for BLEU\n",
        "        smoothie = SmoothingFunction().method1\n",
        "        bleu_score = sentence_bleu([reference_tokens], prediction_tokens, smoothing_function=smoothie)\n",
        "        bleu_scores.append(bleu_score)\n",
        "\n",
        "    avg_bleu_score = sum(bleu_scores) / len(bleu_scores) if bleu_scores else 0\n",
        "\n",
        "    # ROUGE score\n",
        "    rouge_scorer_instance = rouge_scorer.RougeScorer(['rouge1', 'rouge2', 'rougeL'], use_stemmer=True)\n",
        "    rouge_scores = {'rouge1': [], 'rouge2': [], 'rougeL': []}\n",
        "\n",
        "    for prediction, reference in zip(predictions, references):\n",
        "        scores = rouge_scorer_instance.score(reference, prediction)\n",
        "        rouge_scores['rouge1'].append(scores['rouge1'].fmeasure)\n",
        "        rouge_scores['rouge2'].append(scores['rouge2'].fmeasure)\n",
        "        rouge_scores['rougeL'].append(scores['rougeL'].fmeasure)\n",
        "\n",
        "    avg_rouge_scores = {\n",
        "        'rouge1': sum(rouge_scores['rouge1']) / len(rouge_scores['rouge1']),\n",
        "        'rouge2': sum(rouge_scores['rouge2']) / len(rouge_scores['rouge2']),\n",
        "        'rougeL': sum(rouge_scores['rougeL']) / len(rouge_scores['rougeL']),\n",
        "    }\n",
        "\n",
        "    # Final Results\n",
        "    results = {\n",
        "        'avg_bleu_score': avg_bleu_score,\n",
        "        'avg_rouge1_score': avg_rouge_scores['rouge1'],\n",
        "        'avg_rouge2_score': avg_rouge_scores['rouge2'],\n",
        "        'avg_rougeL_score': avg_rouge_scores['rougeL'],\n",
        "    }\n",
        "\n",
        "    return results\n"
      ],
      "metadata": {
        "colab": {
          "base_uri": "https://localhost:8080/"
        },
        "id": "TZDsWwNXJ9a_",
        "outputId": "9ce042eb-d0e1-4749-ea23-0a3c52cb9eb1"
      },
      "execution_count": 2,
      "outputs": [
        {
          "output_type": "stream",
          "name": "stderr",
          "text": [
            "[nltk_data] Downloading package punkt_tab to /root/nltk_data...\n",
            "[nltk_data]   Unzipping tokenizers/punkt_tab.zip.\n"
          ]
        }
      ]
    },
    {
      "cell_type": "code",
      "source": [
        "\n",
        "# Example usage\n",
        "\n",
        "predictions = [\n",
        "     \"Water is considered a macronutrient because it provides more calories than any other macronutrient in the form of heat. Water is composed of hydrogen and oxygen atoms, and its molecular structure is highly hydrated. It has a high specific heat capacity, meaning that it takes more energy to increase its temperature by a given amount than it takes to increase the temperature of any other material. Water is the primary component of all living organisms, including humans, as it provides the bulk of their energy and nutrients. It is essential for the maintenance of body temperature, muscle contractions, and digestion. Water also plays a crucial role in hydrating the body's organs, tissues, and cells, helping them to function properly. In summary, water is considered a macro-nutrient because it provides the energy and nutrients that are required for life..\"\n",
        "\n",
        "]\n",
        "references = [\"Water is considered a macronutrient because the body requires it in large amounts, even though it does not yield calories or provide energy..\"\n",
        "\n",
        "]\n",
        "\n",
        "results = evaluate_rag_model(predictions, references)\n",
        "print(\"Evaluation Results:\")\n",
        "print(f\"Average BLEU Score: {results['avg_bleu_score']:.4f}\")\n",
        "print(f\"Average ROUGE-1 Score: {results['avg_rouge1_score']:.4f}\")\n",
        "print(f\"Average ROUGE-2 Score: {results['avg_rouge2_score']:.4f}\")\n",
        "print(f\"Average ROUGE-L Score: {results['avg_rougeL_score']:.4f}\")"
      ],
      "metadata": {
        "id": "izFUbbgiK688",
        "colab": {
          "base_uri": "https://localhost:8080/"
        },
        "outputId": "601eb191-d8b2-41ce-ac4e-0dd7790f36a9"
      },
      "execution_count": 24,
      "outputs": [
        {
          "output_type": "stream",
          "name": "stdout",
          "text": [
            "Evaluation Results:\n",
            "Average BLEU Score: 0.0371\n",
            "Average ROUGE-1 Score: 0.1963\n",
            "Average ROUGE-2 Score: 0.0745\n",
            "Average ROUGE-L Score: 0.1472\n"
          ]
        }
      ]
    },
    {
      "cell_type": "code",
      "source": [
        "from sklearn.metrics import precision_score, recall_score, f1_score\n",
        "from sklearn.metrics import confusion_matrix\n",
        "import numpy as np\n",
        "\n",
        "# Function to calculate Precision, Recall, F1 Score for text comparison\n",
        "def calculate_metrics(y_true, y_pred):\n",
        "    \"\"\"\n",
        "    Calculate Precision, Recall, and F1 Score between ground truth (y_true) and model-generated (y_pred) text.\n",
        "\n",
        "    Args:\n",
        "    - y_true: list of reference text (ground truth)\n",
        "    - y_pred: list of generated text (model output)\n",
        "\n",
        "    Returns:\n",
        "    - precision: Precision score\n",
        "    - recall: Recall score\n",
        "    - f1: F1 Score\n",
        "    \"\"\"\n",
        "    # Tokenize and convert texts to a binary representation (1 if word exists in the text, else 0)\n",
        "    y_true_tokens = [set(true.split()) for true in y_true]\n",
        "    y_pred_tokens = [set(pred.split()) for pred in y_pred]\n",
        "\n",
        "    # Flatten the sets of tokens into individual word lists for comparison\n",
        "    all_words = set([word for sublist in y_true_tokens + y_pred_tokens for word in sublist])\n",
        "\n",
        "    # Create binary vectors for precision, recall, and F1 score\n",
        "    y_true_binary = [[1 if word in tokens else 0 for word in all_words] for tokens in y_true_tokens]\n",
        "    y_pred_binary = [[1 if word in tokens else 0 for word in all_words] for tokens in y_pred_tokens]\n",
        "\n",
        "    # Convert to numpy arrays for use in scikit-learn metrics\n",
        "    y_true_array = np.array(y_true_binary)\n",
        "    y_pred_array = np.array(y_pred_binary)\n",
        "\n",
        "    # Calculate Precision, Recall, and F1 score using sklearn\n",
        "    precision = precision_score(y_true_array, y_pred_array, average='micro')\n",
        "    recall = recall_score(y_true_array, y_pred_array, average='micro')\n",
        "    f1 = f1_score(y_true_array, y_pred_array, average='micro')\n",
        "\n",
        "    return precision, recall, f1"
      ],
      "metadata": {
        "id": "Zr3YaP8Abi_2"
      },
      "execution_count": 5,
      "outputs": []
    },
    {
      "cell_type": "code",
      "source": [
        "\n",
        "# Example ground truth (reference) text\n",
        "y_true = [\n",
        "    \"Water is considered a macronutrient because the body requires it in large amounts, even though it does not yield calories or provide energy..\"\n",
        "\n",
        "]\n",
        "\n",
        "# Example generated text (model output)\n",
        "y_pred = [\n",
        "    \"Water is considered a macronutrient because it provides more calories than any other macronutrient in the form of heat. Water is composed of hydrogen and oxygen atoms, and its molecular structure is highly hydrated. It has a high specific heat capacity, meaning that it takes more energy to increase its temperature by a given amount than it takes to increase the temperature of any other material. Water is the primary component of all living organisms, including humans, as it provides the bulk of their energy and nutrients. It is essential for the maintenance of body temperature, muscle contractions, and digestion. Water also plays a crucial role in hydrating the body's organs, tissues, and cells, helping them to function properly. In summary, water is considered a macro-nutrient because it provides the energy and nutrients that are required for life.\"\n",
        "\n",
        "]\n",
        "\n",
        "precision, recall, f1 = calculate_metrics(y_true, y_pred)\n",
        "\n",
        "# Calculate Precision, Recall, and F1 Score#\n",
        "print(f\"Precision: {precision:.4f}\")\n",
        "print(f\"Recall: {recall:.4f}\")\n",
        "print(f\"F1 Score: {f1:.4f}\")"
      ],
      "metadata": {
        "colab": {
          "base_uri": "https://localhost:8080/"
        },
        "id": "3VEaoWjjb39s",
        "outputId": "befb64e0-efae-4db3-86a9-1267b66d6bf5"
      },
      "execution_count": 25,
      "outputs": [
        {
          "output_type": "stream",
          "name": "stdout",
          "text": [
            "Precision: 0.1294\n",
            "Recall: 0.5000\n",
            "F1 Score: 0.2056\n"
          ]
        }
      ]
    },
    {
      "cell_type": "code",
      "source": [
        "!pip install bert-score\n",
        "import bert_score\n",
        "\n",
        "# Reference and generated sentences\n",
        "reference = [\"Water is considered a macronutrient because the body requires it in large amounts, even though it does not yield calories or provide energy..\"]\n",
        "\n",
        "generated = [\"Water is considered a macronutrient because it provides more calories than any other macronutrient in the form of heat. Water is composed of hydrogen and oxygen atoms, and its molecular structure is highly hydrated. It has a high specific heat capacity, meaning that it takes more energy to increase its temperature by a given amount than it takes to increase the temperature of any other material. Water is the primary component of all living organisms, including humans, as it provides the bulk of their energy and nutrients. It is essential for the maintenance of body temperature, muscle contractions, and digestion. Water also plays a crucial role in hydrating the body's organs, tissues, and cells, helping them to function properly. In summary, water is considered a macro-nutrient because it provides the energy and nutrients that are required for life.\"]\n",
        "\n",
        "# Compute BERTScore\n",
        "P, R, F1 = bert_score.score(generated, reference, lang=\"en\")\n",
        "\n",
        "# Print Precision, Recall, F1-score\n",
        "print(f\"Precision: {P.mean():.4f}\")\n",
        "print(f\"Recall: {R.mean():.4f}\")\n",
        "print(f\"F1-score: {F1.mean():.4f}\")"
      ],
      "metadata": {
        "colab": {
          "base_uri": "https://localhost:8080/"
        },
        "id": "Z9x_NfhqlCnY",
        "outputId": "84e63c9b-105c-4726-80c8-0a5b52de818c"
      },
      "execution_count": 26,
      "outputs": [
        {
          "output_type": "stream",
          "name": "stdout",
          "text": [
            "Requirement already satisfied: bert-score in /usr/local/lib/python3.11/dist-packages (0.3.13)\n",
            "Requirement already satisfied: torch>=1.0.0 in /usr/local/lib/python3.11/dist-packages (from bert-score) (2.6.0+cu124)\n",
            "Requirement already satisfied: pandas>=1.0.1 in /usr/local/lib/python3.11/dist-packages (from bert-score) (2.2.2)\n",
            "Requirement already satisfied: transformers>=3.0.0 in /usr/local/lib/python3.11/dist-packages (from bert-score) (4.51.3)\n",
            "Requirement already satisfied: numpy in /usr/local/lib/python3.11/dist-packages (from bert-score) (2.0.2)\n",
            "Requirement already satisfied: requests in /usr/local/lib/python3.11/dist-packages (from bert-score) (2.32.3)\n",
            "Requirement already satisfied: tqdm>=4.31.1 in /usr/local/lib/python3.11/dist-packages (from bert-score) (4.67.1)\n",
            "Requirement already satisfied: matplotlib in /usr/local/lib/python3.11/dist-packages (from bert-score) (3.10.0)\n",
            "Requirement already satisfied: packaging>=20.9 in /usr/local/lib/python3.11/dist-packages (from bert-score) (24.2)\n",
            "Requirement already satisfied: python-dateutil>=2.8.2 in /usr/local/lib/python3.11/dist-packages (from pandas>=1.0.1->bert-score) (2.8.2)\n",
            "Requirement already satisfied: pytz>=2020.1 in /usr/local/lib/python3.11/dist-packages (from pandas>=1.0.1->bert-score) (2025.2)\n",
            "Requirement already satisfied: tzdata>=2022.7 in /usr/local/lib/python3.11/dist-packages (from pandas>=1.0.1->bert-score) (2025.2)\n",
            "Requirement already satisfied: filelock in /usr/local/lib/python3.11/dist-packages (from torch>=1.0.0->bert-score) (3.18.0)\n",
            "Requirement already satisfied: typing-extensions>=4.10.0 in /usr/local/lib/python3.11/dist-packages (from torch>=1.0.0->bert-score) (4.13.2)\n",
            "Requirement already satisfied: networkx in /usr/local/lib/python3.11/dist-packages (from torch>=1.0.0->bert-score) (3.4.2)\n",
            "Requirement already satisfied: jinja2 in /usr/local/lib/python3.11/dist-packages (from torch>=1.0.0->bert-score) (3.1.6)\n",
            "Requirement already satisfied: fsspec in /usr/local/lib/python3.11/dist-packages (from torch>=1.0.0->bert-score) (2025.3.2)\n",
            "Requirement already satisfied: nvidia-cuda-nvrtc-cu12==12.4.127 in /usr/local/lib/python3.11/dist-packages (from torch>=1.0.0->bert-score) (12.4.127)\n",
            "Requirement already satisfied: nvidia-cuda-runtime-cu12==12.4.127 in /usr/local/lib/python3.11/dist-packages (from torch>=1.0.0->bert-score) (12.4.127)\n",
            "Requirement already satisfied: nvidia-cuda-cupti-cu12==12.4.127 in /usr/local/lib/python3.11/dist-packages (from torch>=1.0.0->bert-score) (12.4.127)\n",
            "Requirement already satisfied: nvidia-cudnn-cu12==9.1.0.70 in /usr/local/lib/python3.11/dist-packages (from torch>=1.0.0->bert-score) (9.1.0.70)\n",
            "Requirement already satisfied: nvidia-cublas-cu12==12.4.5.8 in /usr/local/lib/python3.11/dist-packages (from torch>=1.0.0->bert-score) (12.4.5.8)\n",
            "Requirement already satisfied: nvidia-cufft-cu12==11.2.1.3 in /usr/local/lib/python3.11/dist-packages (from torch>=1.0.0->bert-score) (11.2.1.3)\n",
            "Requirement already satisfied: nvidia-curand-cu12==10.3.5.147 in /usr/local/lib/python3.11/dist-packages (from torch>=1.0.0->bert-score) (10.3.5.147)\n",
            "Requirement already satisfied: nvidia-cusolver-cu12==11.6.1.9 in /usr/local/lib/python3.11/dist-packages (from torch>=1.0.0->bert-score) (11.6.1.9)\n",
            "Requirement already satisfied: nvidia-cusparse-cu12==12.3.1.170 in /usr/local/lib/python3.11/dist-packages (from torch>=1.0.0->bert-score) (12.3.1.170)\n",
            "Requirement already satisfied: nvidia-cusparselt-cu12==0.6.2 in /usr/local/lib/python3.11/dist-packages (from torch>=1.0.0->bert-score) (0.6.2)\n",
            "Requirement already satisfied: nvidia-nccl-cu12==2.21.5 in /usr/local/lib/python3.11/dist-packages (from torch>=1.0.0->bert-score) (2.21.5)\n",
            "Requirement already satisfied: nvidia-nvtx-cu12==12.4.127 in /usr/local/lib/python3.11/dist-packages (from torch>=1.0.0->bert-score) (12.4.127)\n",
            "Requirement already satisfied: nvidia-nvjitlink-cu12==12.4.127 in /usr/local/lib/python3.11/dist-packages (from torch>=1.0.0->bert-score) (12.4.127)\n",
            "Requirement already satisfied: triton==3.2.0 in /usr/local/lib/python3.11/dist-packages (from torch>=1.0.0->bert-score) (3.2.0)\n",
            "Requirement already satisfied: sympy==1.13.1 in /usr/local/lib/python3.11/dist-packages (from torch>=1.0.0->bert-score) (1.13.1)\n",
            "Requirement already satisfied: mpmath<1.4,>=1.1.0 in /usr/local/lib/python3.11/dist-packages (from sympy==1.13.1->torch>=1.0.0->bert-score) (1.3.0)\n",
            "Requirement already satisfied: huggingface-hub<1.0,>=0.30.0 in /usr/local/lib/python3.11/dist-packages (from transformers>=3.0.0->bert-score) (0.30.2)\n",
            "Requirement already satisfied: pyyaml>=5.1 in /usr/local/lib/python3.11/dist-packages (from transformers>=3.0.0->bert-score) (6.0.2)\n",
            "Requirement already satisfied: regex!=2019.12.17 in /usr/local/lib/python3.11/dist-packages (from transformers>=3.0.0->bert-score) (2024.11.6)\n",
            "Requirement already satisfied: tokenizers<0.22,>=0.21 in /usr/local/lib/python3.11/dist-packages (from transformers>=3.0.0->bert-score) (0.21.1)\n",
            "Requirement already satisfied: safetensors>=0.4.3 in /usr/local/lib/python3.11/dist-packages (from transformers>=3.0.0->bert-score) (0.5.3)\n",
            "Requirement already satisfied: contourpy>=1.0.1 in /usr/local/lib/python3.11/dist-packages (from matplotlib->bert-score) (1.3.2)\n",
            "Requirement already satisfied: cycler>=0.10 in /usr/local/lib/python3.11/dist-packages (from matplotlib->bert-score) (0.12.1)\n",
            "Requirement already satisfied: fonttools>=4.22.0 in /usr/local/lib/python3.11/dist-packages (from matplotlib->bert-score) (4.57.0)\n",
            "Requirement already satisfied: kiwisolver>=1.3.1 in /usr/local/lib/python3.11/dist-packages (from matplotlib->bert-score) (1.4.8)\n",
            "Requirement already satisfied: pillow>=8 in /usr/local/lib/python3.11/dist-packages (from matplotlib->bert-score) (11.1.0)\n",
            "Requirement already satisfied: pyparsing>=2.3.1 in /usr/local/lib/python3.11/dist-packages (from matplotlib->bert-score) (3.2.3)\n",
            "Requirement already satisfied: charset-normalizer<4,>=2 in /usr/local/lib/python3.11/dist-packages (from requests->bert-score) (3.4.1)\n",
            "Requirement already satisfied: idna<4,>=2.5 in /usr/local/lib/python3.11/dist-packages (from requests->bert-score) (3.10)\n",
            "Requirement already satisfied: urllib3<3,>=1.21.1 in /usr/local/lib/python3.11/dist-packages (from requests->bert-score) (2.3.0)\n",
            "Requirement already satisfied: certifi>=2017.4.17 in /usr/local/lib/python3.11/dist-packages (from requests->bert-score) (2025.1.31)\n",
            "Requirement already satisfied: six>=1.5 in /usr/local/lib/python3.11/dist-packages (from python-dateutil>=2.8.2->pandas>=1.0.1->bert-score) (1.17.0)\n",
            "Requirement already satisfied: MarkupSafe>=2.0 in /usr/local/lib/python3.11/dist-packages (from jinja2->torch>=1.0.0->bert-score) (3.0.2)\n"
          ]
        },
        {
          "output_type": "stream",
          "name": "stderr",
          "text": [
            "Some weights of RobertaModel were not initialized from the model checkpoint at roberta-large and are newly initialized: ['pooler.dense.bias', 'pooler.dense.weight']\n",
            "You should probably TRAIN this model on a down-stream task to be able to use it for predictions and inference.\n"
          ]
        },
        {
          "output_type": "stream",
          "name": "stdout",
          "text": [
            "Precision: 0.8418\n",
            "Recall: 0.8990\n",
            "F1-score: 0.8695\n"
          ]
        }
      ]
    }
  ]
}